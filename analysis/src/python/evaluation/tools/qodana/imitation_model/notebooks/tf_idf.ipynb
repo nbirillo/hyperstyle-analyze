{
 "cells": [
  {
   "cell_type": "code",
   "execution_count": 1,
   "metadata": {
    "pycharm": {
     "name": "#%%\n"
    }
   },
   "outputs": [],
   "source": [
    "import pandas as pd\n",
    "import numpy as np\n",
    "\n",
    "from pathlib import Path\n",
    "from typing import List"
   ]
  },
  {
   "cell_type": "code",
   "execution_count": 2,
   "metadata": {
    "pycharm": {
     "name": "#%%\n"
    }
   },
   "outputs": [],
   "source": [
    "BASE_PATH = Path('/Users/tiginamaria1999/PycharmProjects/hyperstyle-analyze/analysis/src/python/evaluation/tools/qodana/imitation_model/data')\n",
    "\n",
    "SUBMISSIONS_PATH = BASE_PATH / 'solutions_java11_prep_qodana_issues_info.csv'\n",
    "\n",
    "ISSUES_TO_IDS_PATH = BASE_PATH / 'qodana_issues_to_ids.csv'"
   ]
  },
  {
   "cell_type": "code",
   "execution_count": 3,
   "metadata": {
    "pycharm": {
     "name": "#%%\n"
    }
   },
   "outputs": [],
   "source": [
    "SEED = 42"
   ]
  },
  {
   "cell_type": "code",
   "execution_count": 4,
   "metadata": {
    "pycharm": {
     "name": "#%%\n"
    }
   },
   "outputs": [
    {
     "data": {
      "text/html": [
       "<div>\n",
       "<style scoped>\n",
       "    .dataframe tbody tr th:only-of-type {\n",
       "        vertical-align: middle;\n",
       "    }\n",
       "\n",
       "    .dataframe tbody tr th {\n",
       "        vertical-align: top;\n",
       "    }\n",
       "\n",
       "    .dataframe thead th {\n",
       "        text-align: right;\n",
       "    }\n",
       "</style>\n",
       "<table border=\"1\" class=\"dataframe\">\n",
       "  <thead>\n",
       "    <tr style=\"text-align: right;\">\n",
       "      <th></th>\n",
       "      <th>id</th>\n",
       "      <th>code</th>\n",
       "      <th>qodana_issues</th>\n",
       "    </tr>\n",
       "  </thead>\n",
       "  <tbody>\n",
       "    <tr>\n",
       "      <th>0</th>\n",
       "      <td>29396107</td>\n",
       "      <td>import java.util.Scanner;\\r\\n\\r\\nclass Main {\\...</td>\n",
       "      <td>[(0, 3, 7, 36), (1, 5, 26, 115)]</td>\n",
       "    </tr>\n",
       "    <tr>\n",
       "      <th>1</th>\n",
       "      <td>31320930</td>\n",
       "      <td>import java.util.Optional;\\r\\n\\r\\npublic class...</td>\n",
       "      <td>[(0, 3, 14, 44)]</td>\n",
       "    </tr>\n",
       "    <tr>\n",
       "      <th>2</th>\n",
       "      <td>30318986</td>\n",
       "      <td>import java.util.Scanner;\\r\\n\\r\\nclass Main {\\...</td>\n",
       "      <td>[(0, 3, 7, 36), (1, 5, 31, 120)]</td>\n",
       "    </tr>\n",
       "    <tr>\n",
       "      <th>3</th>\n",
       "      <td>30211488</td>\n",
       "      <td>import java.util.Scanner;\\r\\n\\r\\nclass Main {\\...</td>\n",
       "      <td>[(0, 3, 7, 36), (1, 5, 31, 120)]</td>\n",
       "    </tr>\n",
       "    <tr>\n",
       "      <th>4</th>\n",
       "      <td>31321756</td>\n",
       "      <td>import java.util.Scanner;\\r\\n\\r\\npublic class ...</td>\n",
       "      <td>[(0, 3, 14, 43), (1, 13, 37, 397)]</td>\n",
       "    </tr>\n",
       "    <tr>\n",
       "      <th>...</th>\n",
       "      <td>...</td>\n",
       "      <td>...</td>\n",
       "      <td>...</td>\n",
       "    </tr>\n",
       "    <tr>\n",
       "      <th>1408835</th>\n",
       "      <td>55192231</td>\n",
       "      <td>import java.util.Scanner;\\r\\n\\r\\npublic class ...</td>\n",
       "      <td>[(0, 3, 14, 43), (1, 5, 28, 124)]</td>\n",
       "    </tr>\n",
       "    <tr>\n",
       "      <th>1408836</th>\n",
       "      <td>55398191</td>\n",
       "      <td>import java.util.Scanner;\\r\\n\\r\\npublic class ...</td>\n",
       "      <td>[(0, 3, 14, 43), (1, 5, 24, 120)]</td>\n",
       "    </tr>\n",
       "    <tr>\n",
       "      <th>1408837</th>\n",
       "      <td>55535683</td>\n",
       "      <td>class TimeConstantsDemo {\\r\\n\\r\\n    public st...</td>\n",
       "      <td>[(0, 1, 7, 7)]</td>\n",
       "    </tr>\n",
       "    <tr>\n",
       "      <th>1408838</th>\n",
       "      <td>55602370</td>\n",
       "      <td>class CalculatorTest {\\r\\n    void testAdditio...</td>\n",
       "      <td>[(0, 1, 7, 7)]</td>\n",
       "    </tr>\n",
       "    <tr>\n",
       "      <th>1408839</th>\n",
       "      <td>49706897</td>\n",
       "      <td>import java.math.BigInteger;\\r\\nimport java.ut...</td>\n",
       "      <td>[(0, 4, 7, 72)]</td>\n",
       "    </tr>\n",
       "  </tbody>\n",
       "</table>\n",
       "<p>1408840 rows × 3 columns</p>\n",
       "</div>"
      ],
      "text/plain": [
       "               id                                               code  \\\n",
       "0        29396107  import java.util.Scanner;\\r\\n\\r\\nclass Main {\\...   \n",
       "1        31320930  import java.util.Optional;\\r\\n\\r\\npublic class...   \n",
       "2        30318986  import java.util.Scanner;\\r\\n\\r\\nclass Main {\\...   \n",
       "3        30211488  import java.util.Scanner;\\r\\n\\r\\nclass Main {\\...   \n",
       "4        31321756  import java.util.Scanner;\\r\\n\\r\\npublic class ...   \n",
       "...           ...                                                ...   \n",
       "1408835  55192231  import java.util.Scanner;\\r\\n\\r\\npublic class ...   \n",
       "1408836  55398191  import java.util.Scanner;\\r\\n\\r\\npublic class ...   \n",
       "1408837  55535683  class TimeConstantsDemo {\\r\\n\\r\\n    public st...   \n",
       "1408838  55602370  class CalculatorTest {\\r\\n    void testAdditio...   \n",
       "1408839  49706897  import java.math.BigInteger;\\r\\nimport java.ut...   \n",
       "\n",
       "                              qodana_issues  \n",
       "0          [(0, 3, 7, 36), (1, 5, 26, 115)]  \n",
       "1                          [(0, 3, 14, 44)]  \n",
       "2          [(0, 3, 7, 36), (1, 5, 31, 120)]  \n",
       "3          [(0, 3, 7, 36), (1, 5, 31, 120)]  \n",
       "4        [(0, 3, 14, 43), (1, 13, 37, 397)]  \n",
       "...                                     ...  \n",
       "1408835   [(0, 3, 14, 43), (1, 5, 28, 124)]  \n",
       "1408836   [(0, 3, 14, 43), (1, 5, 24, 120)]  \n",
       "1408837                      [(0, 1, 7, 7)]  \n",
       "1408838                      [(0, 1, 7, 7)]  \n",
       "1408839                     [(0, 4, 7, 72)]  \n",
       "\n",
       "[1408840 rows x 3 columns]"
      ]
     },
     "execution_count": 4,
     "metadata": {},
     "output_type": "execute_result"
    }
   ],
   "source": [
    "df_submissions = pd.read_csv(SUBMISSIONS_PATH)\n",
    "df_submissions"
   ]
  },
  {
   "cell_type": "code",
   "execution_count": 5,
   "metadata": {
    "pycharm": {
     "name": "#%%\n"
    }
   },
   "outputs": [
    {
     "data": {
      "text/html": [
       "<div>\n",
       "<style scoped>\n",
       "    .dataframe tbody tr th:only-of-type {\n",
       "        vertical-align: middle;\n",
       "    }\n",
       "\n",
       "    .dataframe tbody tr th {\n",
       "        vertical-align: top;\n",
       "    }\n",
       "\n",
       "    .dataframe thead th {\n",
       "        text-align: right;\n",
       "    }\n",
       "</style>\n",
       "<table border=\"1\" class=\"dataframe\">\n",
       "  <thead>\n",
       "    <tr style=\"text-align: right;\">\n",
       "      <th></th>\n",
       "      <th>id</th>\n",
       "      <th>code</th>\n",
       "      <th>qodana_issues</th>\n",
       "    </tr>\n",
       "  </thead>\n",
       "  <tbody>\n",
       "    <tr>\n",
       "      <th>0</th>\n",
       "      <td>29396107</td>\n",
       "      <td>import java.util.Scanner;\\r\\n\\r\\nclass Main {\\...</td>\n",
       "      <td>[(0, 3, 7, 36), (1, 5, 26, 115)]</td>\n",
       "    </tr>\n",
       "    <tr>\n",
       "      <th>1</th>\n",
       "      <td>31320930</td>\n",
       "      <td>import java.util.Optional;\\r\\n\\r\\npublic class...</td>\n",
       "      <td>[(0, 3, 14, 44)]</td>\n",
       "    </tr>\n",
       "    <tr>\n",
       "      <th>2</th>\n",
       "      <td>30318986</td>\n",
       "      <td>import java.util.Scanner;\\r\\n\\r\\nclass Main {\\...</td>\n",
       "      <td>[(0, 3, 7, 36), (1, 5, 31, 120)]</td>\n",
       "    </tr>\n",
       "    <tr>\n",
       "      <th>3</th>\n",
       "      <td>30211488</td>\n",
       "      <td>import java.util.Scanner;\\r\\n\\r\\nclass Main {\\...</td>\n",
       "      <td>[(0, 3, 7, 36), (1, 5, 31, 120)]</td>\n",
       "    </tr>\n",
       "    <tr>\n",
       "      <th>4</th>\n",
       "      <td>31321756</td>\n",
       "      <td>import java.util.Scanner;\\r\\n\\r\\npublic class ...</td>\n",
       "      <td>[(0, 3, 14, 43), (1, 13, 37, 397)]</td>\n",
       "    </tr>\n",
       "    <tr>\n",
       "      <th>...</th>\n",
       "      <td>...</td>\n",
       "      <td>...</td>\n",
       "      <td>...</td>\n",
       "    </tr>\n",
       "    <tr>\n",
       "      <th>1408835</th>\n",
       "      <td>55192231</td>\n",
       "      <td>import java.util.Scanner;\\r\\n\\r\\npublic class ...</td>\n",
       "      <td>[(0, 3, 14, 43), (1, 5, 28, 124)]</td>\n",
       "    </tr>\n",
       "    <tr>\n",
       "      <th>1408836</th>\n",
       "      <td>55398191</td>\n",
       "      <td>import java.util.Scanner;\\r\\n\\r\\npublic class ...</td>\n",
       "      <td>[(0, 3, 14, 43), (1, 5, 24, 120)]</td>\n",
       "    </tr>\n",
       "    <tr>\n",
       "      <th>1408837</th>\n",
       "      <td>55535683</td>\n",
       "      <td>class TimeConstantsDemo {\\r\\n\\r\\n    public st...</td>\n",
       "      <td>[(0, 1, 7, 7)]</td>\n",
       "    </tr>\n",
       "    <tr>\n",
       "      <th>1408838</th>\n",
       "      <td>55602370</td>\n",
       "      <td>class CalculatorTest {\\r\\n    void testAdditio...</td>\n",
       "      <td>[(0, 1, 7, 7)]</td>\n",
       "    </tr>\n",
       "    <tr>\n",
       "      <th>1408839</th>\n",
       "      <td>49706897</td>\n",
       "      <td>import java.math.BigInteger;\\r\\nimport java.ut...</td>\n",
       "      <td>[(0, 4, 7, 72)]</td>\n",
       "    </tr>\n",
       "  </tbody>\n",
       "</table>\n",
       "<p>1408840 rows × 3 columns</p>\n",
       "</div>"
      ],
      "text/plain": [
       "               id                                               code  \\\n",
       "0        29396107  import java.util.Scanner;\\r\\n\\r\\nclass Main {\\...   \n",
       "1        31320930  import java.util.Optional;\\r\\n\\r\\npublic class...   \n",
       "2        30318986  import java.util.Scanner;\\r\\n\\r\\nclass Main {\\...   \n",
       "3        30211488  import java.util.Scanner;\\r\\n\\r\\nclass Main {\\...   \n",
       "4        31321756  import java.util.Scanner;\\r\\n\\r\\npublic class ...   \n",
       "...           ...                                                ...   \n",
       "1408835  55192231  import java.util.Scanner;\\r\\n\\r\\npublic class ...   \n",
       "1408836  55398191  import java.util.Scanner;\\r\\n\\r\\npublic class ...   \n",
       "1408837  55535683  class TimeConstantsDemo {\\r\\n\\r\\n    public st...   \n",
       "1408838  55602370  class CalculatorTest {\\r\\n    void testAdditio...   \n",
       "1408839  49706897  import java.math.BigInteger;\\r\\nimport java.ut...   \n",
       "\n",
       "                              qodana_issues  \n",
       "0          [(0, 3, 7, 36), (1, 5, 26, 115)]  \n",
       "1                          [(0, 3, 14, 44)]  \n",
       "2          [(0, 3, 7, 36), (1, 5, 31, 120)]  \n",
       "3          [(0, 3, 7, 36), (1, 5, 31, 120)]  \n",
       "4        [(0, 3, 14, 43), (1, 13, 37, 397)]  \n",
       "...                                     ...  \n",
       "1408835   [(0, 3, 14, 43), (1, 5, 28, 124)]  \n",
       "1408836   [(0, 3, 14, 43), (1, 5, 24, 120)]  \n",
       "1408837                      [(0, 1, 7, 7)]  \n",
       "1408838                      [(0, 1, 7, 7)]  \n",
       "1408839                     [(0, 4, 7, 72)]  \n",
       "\n",
       "[1408840 rows x 3 columns]"
      ]
     },
     "execution_count": 5,
     "metadata": {},
     "output_type": "execute_result"
    }
   ],
   "source": [
    "import ast\n",
    "\n",
    "df_submissions['qodana_issues'] = df_submissions['qodana_issues'].apply(ast.literal_eval)\n",
    "df_submissions"
   ]
  },
  {
   "cell_type": "markdown",
   "metadata": {
    "pycharm": {
     "name": "#%% md\n"
    }
   },
   "source": [
    "## Qodana issues"
   ]
  },
  {
   "cell_type": "code",
   "execution_count": 6,
   "metadata": {
    "pycharm": {
     "name": "#%%\n"
    }
   },
   "outputs": [
    {
     "data": {
      "text/html": [
       "<div>\n",
       "<style scoped>\n",
       "    .dataframe tbody tr th:only-of-type {\n",
       "        vertical-align: middle;\n",
       "    }\n",
       "\n",
       "    .dataframe tbody tr th {\n",
       "        vertical-align: top;\n",
       "    }\n",
       "\n",
       "    .dataframe thead th {\n",
       "        text-align: right;\n",
       "    }\n",
       "</style>\n",
       "<table border=\"1\" class=\"dataframe\">\n",
       "  <thead>\n",
       "    <tr style=\"text-align: right;\">\n",
       "      <th></th>\n",
       "      <th>name</th>\n",
       "      <th>id</th>\n",
       "    </tr>\n",
       "  </thead>\n",
       "  <tbody>\n",
       "    <tr>\n",
       "      <th>0</th>\n",
       "      <td>WrongPackageStatement</td>\n",
       "      <td>0</td>\n",
       "    </tr>\n",
       "    <tr>\n",
       "      <th>1</th>\n",
       "      <td>IOResource</td>\n",
       "      <td>1</td>\n",
       "    </tr>\n",
       "    <tr>\n",
       "      <th>2</th>\n",
       "      <td>UnusedAssignment</td>\n",
       "      <td>2</td>\n",
       "    </tr>\n",
       "    <tr>\n",
       "      <th>3</th>\n",
       "      <td>UtilityClassWithPublicConstructor</td>\n",
       "      <td>3</td>\n",
       "    </tr>\n",
       "    <tr>\n",
       "      <th>4</th>\n",
       "      <td>StringOperationCanBeSimplified</td>\n",
       "      <td>4</td>\n",
       "    </tr>\n",
       "    <tr>\n",
       "      <th>...</th>\n",
       "      <td>...</td>\n",
       "      <td>...</td>\n",
       "    </tr>\n",
       "    <tr>\n",
       "      <th>176</th>\n",
       "      <td>ArrayObjectsEquals</td>\n",
       "      <td>176</td>\n",
       "    </tr>\n",
       "    <tr>\n",
       "      <th>177</th>\n",
       "      <td>UnnecessaryTemporaryOnConversionFromString</td>\n",
       "      <td>177</td>\n",
       "    </tr>\n",
       "    <tr>\n",
       "      <th>178</th>\n",
       "      <td>RedundantUnmodifiable</td>\n",
       "      <td>178</td>\n",
       "    </tr>\n",
       "    <tr>\n",
       "      <th>179</th>\n",
       "      <td>ObviousNullCheck</td>\n",
       "      <td>179</td>\n",
       "    </tr>\n",
       "    <tr>\n",
       "      <th>180</th>\n",
       "      <td>ReplaceOnLiteralHasNoEffect</td>\n",
       "      <td>180</td>\n",
       "    </tr>\n",
       "  </tbody>\n",
       "</table>\n",
       "<p>181 rows × 2 columns</p>\n",
       "</div>"
      ],
      "text/plain": [
       "                                           name   id\n",
       "0                         WrongPackageStatement    0\n",
       "1                                    IOResource    1\n",
       "2                              UnusedAssignment    2\n",
       "3             UtilityClassWithPublicConstructor    3\n",
       "4                StringOperationCanBeSimplified    4\n",
       "..                                          ...  ...\n",
       "176                          ArrayObjectsEquals  176\n",
       "177  UnnecessaryTemporaryOnConversionFromString  177\n",
       "178                       RedundantUnmodifiable  178\n",
       "179                            ObviousNullCheck  179\n",
       "180                 ReplaceOnLiteralHasNoEffect  180\n",
       "\n",
       "[181 rows x 2 columns]"
      ]
     },
     "execution_count": 6,
     "metadata": {},
     "output_type": "execute_result"
    }
   ],
   "source": [
    "df_issues_to_ids = pd.read_csv(ISSUES_TO_IDS_PATH)\n",
    "df_issues_to_ids"
   ]
  },
  {
   "cell_type": "code",
   "execution_count": 7,
   "metadata": {
    "pycharm": {
     "name": "#%%\n"
    },
    "scrolled": true
   },
   "outputs": [
    {
     "data": {
      "text/plain": [
       "{0: 'WrongPackageStatement',\n",
       " 1: 'IOResource',\n",
       " 2: 'UnusedAssignment',\n",
       " 3: 'UtilityClassWithPublicConstructor',\n",
       " 4: 'StringOperationCanBeSimplified',\n",
       " 5: 'ConstantConditions',\n",
       " 6: 'AssignmentToForLoopParameter',\n",
       " 7: 'StringEquality',\n",
       " 8: 'PointlessArithmeticExpression',\n",
       " 9: 'IntegerDivisionInFloatingPointContext',\n",
       " 10: 'UnnecessaryReturn',\n",
       " 11: 'SimplifiableConditionalExpression',\n",
       " 12: 'SwitchStatementsWithoutDefault',\n",
       " 13: 'SillyAssignment',\n",
       " 14: 'ThrowablePrintStackTrace',\n",
       " 15: 'StringConcatenationInLoops',\n",
       " 16: 'DuplicateExpressions',\n",
       " 17: 'IfStatementWithIdenticalBranches',\n",
       " 18: 'DuplicateBranchesInSwitch',\n",
       " 19: 'IgnoreResultOfCall',\n",
       " 20: 'AbstractClassNeverImplemented',\n",
       " 21: 'RedundantStringFormatCall',\n",
       " 22: 'PublicFieldAccessedInSynchronizedContext',\n",
       " 23: 'SynchronizeOnThis',\n",
       " 24: 'SlowListContainsAll',\n",
       " 25: 'OptionalGetWithoutIsPresent',\n",
       " 26: 'RegExpUnnecessaryNonCapturingGroup',\n",
       " 27: 'RedundantCollectionOperation',\n",
       " 28: 'TypeParameterHidesVisibleType',\n",
       " 29: 'ObjectToString',\n",
       " 30: 'TrivialStringConcatenation',\n",
       " 31: 'ManualMinMaxCalculation',\n",
       " 32: 'ParameterCanBeLocal',\n",
       " 33: 'PointlessBooleanExpression',\n",
       " 34: 'WrapperTypeMayBePrimitive',\n",
       " 35: 'ConditionCoveredByFurtherCondition',\n",
       " 36: 'RegExpRedundantEscape',\n",
       " 37: 'SuspiciousNameCombination',\n",
       " 38: 'ManualArrayCopy',\n",
       " 39: 'ManualArrayToCollectionCopy',\n",
       " 40: 'UseBulkOperation',\n",
       " 41: 'MismatchedCollectionQueryUpdate',\n",
       " 42: 'DoubleBraceInitialization',\n",
       " 43: 'IntegerMultiplicationImplicitCastToLong',\n",
       " 44: 'ExcessiveLambdaUsage',\n",
       " 45: 'SimplifyStreamApiCallChains',\n",
       " 46: 'StringBufferReplaceableByString',\n",
       " 47: 'EnumSwitchStatementWhichMissesCases',\n",
       " 48: 'ComparableImplementedButEqualsNotOverridden',\n",
       " 49: 'MismatchedArrayReadWrite',\n",
       " 50: 'MismatchedStringBuilderQueryUpdate',\n",
       " 51: 'UnnecessaryContinue',\n",
       " 52: 'EmptyStatementBody',\n",
       " 53: 'IfStatementMissingBreakInLoop',\n",
       " 54: 'MarkedForRemoval',\n",
       " 55: 'InnerClassMayBeStatic',\n",
       " 56: 'FieldAccessedSynchronizedAndUnsynchronized',\n",
       " 57: 'RegExpSingleCharAlternation',\n",
       " 58: 'LongLiteralsEndingWithLowercaseL',\n",
       " 59: 'FieldMayBeStatic',\n",
       " 60: 'DuplicateCondition',\n",
       " 61: 'OverflowingLoopIndex',\n",
       " 62: 'ToArrayCallWithZeroLengthArrayArgument',\n",
       " 63: 'BusyWait',\n",
       " 64: 'ComparatorResultComparison',\n",
       " 65: 'CatchMayIgnoreException',\n",
       " 66: 'LoopConditionNotUpdatedInsideLoop',\n",
       " 67: 'OctalLiteral',\n",
       " 68: 'RegExpEmptyAlternationBranch',\n",
       " 69: 'UnaryPlus',\n",
       " 70: 'StringConcatenationInsideStringBufferAppend',\n",
       " 71: 'ObsoleteCollection',\n",
       " 72: 'CollectionAddAllCanBeReplacedWithConstructor',\n",
       " 73: 'RedundantArrayCreation',\n",
       " 74: 'NumberEquality',\n",
       " 75: 'SuspiciousListRemoveInLoop',\n",
       " 76: 'ThreadWithDefaultRunMethod',\n",
       " 77: 'RedundantClassCall',\n",
       " 78: 'FinallyBlockCannotCompleteNormally',\n",
       " 79: 'ReturnFromFinallyBlock',\n",
       " 80: 'SimplifyOptionalCallChains',\n",
       " 81: 'ThrowablePrintedToSystemOut',\n",
       " 82: 'NumericOverflow',\n",
       " 83: 'DivideByZero',\n",
       " 84: 'SlowAbstractSetRemoveAll',\n",
       " 85: 'EqualsAndHashcode',\n",
       " 86: 'InfiniteLoopStatement',\n",
       " 87: 'UnnecessaryTemporaryOnConversionToString',\n",
       " 88: 'RegExpDuplicateCharacterInClass',\n",
       " 89: 'RegExpRedundantNestedCharacterClass',\n",
       " 90: 'EqualsBetweenInconvertibleTypes',\n",
       " 91: 'EqualsOnSuspiciousObject',\n",
       " 92: 'StringEqualsCharSequence',\n",
       " 93: 'RegExpDuplicateAlternationBranch',\n",
       " 94: 'SuspiciousSystemArraycopy',\n",
       " 95: 'SwitchStatementWithConfusingDeclaration',\n",
       " 96: 'ConditionalExpressionWithIdenticalBranches',\n",
       " 97: 'CastCanBeRemovedNarrowingVariableType',\n",
       " 98: 'JavaReflectionMemberAccess',\n",
       " 99: 'BigDecimalMethodWithoutRoundingCalled',\n",
       " 100: 'ExplicitArrayFilling',\n",
       " 101: 'RedundantCompareCall',\n",
       " 102: 'OverwrittenKey',\n",
       " 103: 'AssignmentUsedAsCondition',\n",
       " 104: 'InvalidComparatorMethodReference',\n",
       " 105: 'RegExpRepeatedSpace',\n",
       " 106: 'IdempotentLoopBody',\n",
       " 107: 'LoopStatementsThatDontLoop',\n",
       " 108: 'ExcessiveRangeCheck',\n",
       " 109: 'DoubleNegation',\n",
       " 110: 'WriteOnlyObject',\n",
       " 111: 'CollectionAddedToSelf',\n",
       " 112: 'SynchronizeOnNonFinalField',\n",
       " 113: 'MathRandomCastToInt',\n",
       " 114: 'ImplicitArrayToString',\n",
       " 115: 'ArrayEquality',\n",
       " 116: 'ReplaceInefficientStreamCount',\n",
       " 117: 'ThreadRun',\n",
       " 118: 'SuspiciousIntegerDivAssignment',\n",
       " 119: 'MismatchedStringCase',\n",
       " 120: 'BoxingBoxedValue',\n",
       " 121: 'RedundantStreamOptionalCall',\n",
       " 122: 'NullArgumentToVariableArgMethod',\n",
       " 123: 'UnnecessaryLabelOnBreakStatement',\n",
       " 124: 'ReplaceAllDot',\n",
       " 125: 'ArraysAsListWithZeroOrOneArgument',\n",
       " 126: 'ThrowableNotThrown',\n",
       " 127: 'ComparatorMethodParameterNotUsed',\n",
       " 128: 'DeprecatedIsStillUsed',\n",
       " 129: 'DuplicateThrows',\n",
       " 130: 'SuspiciousDateFormat',\n",
       " 131: 'TrivialFunctionalExpressionUsage',\n",
       " 132: 'SynchronizationOnGetClass',\n",
       " 133: 'MethodOverridesStaticMethod',\n",
       " 134: 'EqualsWithItself',\n",
       " 135: 'EmptyFinallyBlock',\n",
       " 136: 'RedundantOperationOnEmptyContainer',\n",
       " 137: 'InfiniteRecursion',\n",
       " 138: 'CachedNumberConstructorCall',\n",
       " 139: 'InstantiatingObjectToGetClassObject',\n",
       " 140: 'UnnecessaryStringEscape',\n",
       " 141: 'ThreadStartInConstruction',\n",
       " 142: 'UnnecessaryUnaryMinus',\n",
       " 143: 'UnusedLabel',\n",
       " 144: 'SimplifiableBooleanExpression',\n",
       " 145: 'ContinueOrBreakFromFinallyBlock',\n",
       " 146: 'ProtectedMemberInFinalClass',\n",
       " 147: 'NonSynchronizedMethodOverridesSynchronizedMethod',\n",
       " 148: 'PointlessBitwiseExpression',\n",
       " 149: 'NewStringBufferWithCharArgument',\n",
       " 150: 'WhileLoopSpinsOnField',\n",
       " 151: 'CaughtExceptionImmediatelyRethrown',\n",
       " 152: 'RegExpSuspiciousBackref',\n",
       " 153: 'RedundantExplicitClose',\n",
       " 154: 'TextLabelInSwitchStatement',\n",
       " 155: 'MalformedFormatString',\n",
       " 156: 'ListRemoveInLoop',\n",
       " 157: 'DefaultAnnotationParam',\n",
       " 158: 'UnpredictableBigDecimalConstructorCall',\n",
       " 159: 'ClassInitializerMayBeStatic',\n",
       " 160: 'RegExpUnexpectedAnchor',\n",
       " 161: 'BooleanConstructor',\n",
       " 162: 'ClassGetClass',\n",
       " 163: 'UnnecessaryLabelOnContinueStatement',\n",
       " 164: 'ArrayEquals',\n",
       " 165: 'MisspelledEquals',\n",
       " 166: 'SuspiciousMethodCalls',\n",
       " 167: 'ReflectionForUnavailableAnnotation',\n",
       " 168: 'DoubleCheckedLocking',\n",
       " 169: 'CastConflictsWithInstanceof',\n",
       " 170: 'MagicConstant',\n",
       " 171: 'SuspiciousToArrayCall',\n",
       " 172: 'OptionalUsedAsFieldOrParameterType',\n",
       " 173: 'MethodOverloadsParentMethod',\n",
       " 174: 'CovariantEquals',\n",
       " 175: 'SynchronizationOnLocalVariableOrMethodParameter',\n",
       " 176: 'ArrayObjectsEquals',\n",
       " 177: 'UnnecessaryTemporaryOnConversionFromString',\n",
       " 178: 'RedundantUnmodifiable',\n",
       " 179: 'ObviousNullCheck',\n",
       " 180: 'ReplaceOnLiteralHasNoEffect'}"
      ]
     },
     "execution_count": 7,
     "metadata": {},
     "output_type": "execute_result"
    }
   ],
   "source": [
    "ids_to_issues = {issue['id']: issue['name'] for _, issue in df_issues_to_ids.iterrows()}\n",
    "ids_to_issues"
   ]
  },
  {
   "cell_type": "markdown",
   "metadata": {
    "pycharm": {
     "name": "#%% md\n"
    }
   },
   "source": [
    "## Code tokenization example"
   ]
  },
  {
   "cell_type": "code",
   "execution_count": 8,
   "metadata": {
    "scrolled": true,
    "pycharm": {
     "name": "#%%\n"
    }
   },
   "outputs": [
    {
     "data": {
      "text/plain": [
       "CompilationUnit(imports=[Import(path=java.util.Scanner, static=False, wildcard=False)], package=None, types=[ClassDeclaration(annotations=[], body=[MethodDeclaration(annotations=[], body=[LocalVariableDeclaration(annotations=[], declarators=[VariableDeclarator(dimensions=[], initializer=ClassCreator(arguments=[MemberReference(member=in, postfix_operators=[], prefix_operators=[], qualifier=System, selectors=[])], body=None, constructor_type_arguments=None, postfix_operators=[], prefix_operators=[], qualifier=None, selectors=[MethodInvocation(arguments=[], member=nextInt, postfix_operators=None, prefix_operators=None, qualifier=None, selectors=None, type_arguments=None)], type=ReferenceType(arguments=None, dimensions=None, name=Scanner, sub_type=None)), name=length)], modifiers=set(), type=BasicType(dimensions=[], name=int)), LocalVariableDeclaration(annotations=[], declarators=[VariableDeclarator(dimensions=[], initializer=ArrayCreator(dimensions=[MemberReference(member=length, postfix_operators=[], prefix_operators=[], qualifier=, selectors=[]), MemberReference(member=length, postfix_operators=[], prefix_operators=[], qualifier=, selectors=[])], initializer=None, postfix_operators=[], prefix_operators=[], qualifier=None, selectors=[], type=BasicType(dimensions=None, name=int)), name=matrix)], modifiers=set(), type=BasicType(dimensions=[None, None], name=int)), ForStatement(body=BlockStatement(label=None, statements=[ForStatement(body=BlockStatement(label=None, statements=[StatementExpression(expression=MethodInvocation(arguments=[BinaryOperation(operandl=MethodInvocation(arguments=[BinaryOperation(operandl=MemberReference(member=j, postfix_operators=[], prefix_operators=[], qualifier=, selectors=[]), operandr=MemberReference(member=i, postfix_operators=[], prefix_operators=[], qualifier=, selectors=[]), operator=-)], member=abs, postfix_operators=[], prefix_operators=[], qualifier=Math, selectors=[], type_arguments=None), operandr=Literal(postfix_operators=[], prefix_operators=[], qualifier=None, selectors=[], value=\" \"), operator=+)], member=print, postfix_operators=[], prefix_operators=[], qualifier=System.out, selectors=[], type_arguments=None), label=None)]), control=ForControl(condition=BinaryOperation(operandl=MemberReference(member=j, postfix_operators=[], prefix_operators=[], qualifier=, selectors=[]), operandr=MemberReference(member=matrix, postfix_operators=[], prefix_operators=[], qualifier=, selectors=[ArraySelector(index=MemberReference(member=i, postfix_operators=[], prefix_operators=[], qualifier=, selectors=[])), MemberReference(member=length, postfix_operators=None, prefix_operators=None, qualifier=None, selectors=None)]), operator=<), init=VariableDeclaration(annotations=[], declarators=[VariableDeclarator(dimensions=None, initializer=Literal(postfix_operators=[], prefix_operators=[], qualifier=None, selectors=[], value=0), name=j)], modifiers=set(), type=BasicType(dimensions=[], name=int)), update=[MemberReference(member=j, postfix_operators=[], prefix_operators=['++'], qualifier=, selectors=[])]), label=None), StatementExpression(expression=MethodInvocation(arguments=[], member=println, postfix_operators=[], prefix_operators=[], qualifier=System.out, selectors=[], type_arguments=None), label=None)]), control=ForControl(condition=BinaryOperation(operandl=MemberReference(member=i, postfix_operators=[], prefix_operators=[], qualifier=, selectors=[]), operandr=MemberReference(member=length, postfix_operators=[], prefix_operators=[], qualifier=matrix, selectors=[]), operator=<), init=VariableDeclaration(annotations=[], declarators=[VariableDeclarator(dimensions=None, initializer=Literal(postfix_operators=[], prefix_operators=[], qualifier=None, selectors=[], value=0), name=i)], modifiers=set(), type=BasicType(dimensions=[], name=int)), update=[MemberReference(member=i, postfix_operators=[], prefix_operators=['++'], qualifier=, selectors=[])]), label=None)], documentation=None, modifiers={'public', 'static'}, name=main, parameters=[FormalParameter(annotations=[], modifiers=set(), name=args, type=ReferenceType(arguments=None, dimensions=[None], name=String, sub_type=None), varargs=False)], return_type=None, throws=None, type_parameters=None)], documentation=None, extends=None, implements=None, modifiers=set(), name=Main, type_parameters=None)])"
      ]
     },
     "execution_count": 8,
     "metadata": {},
     "output_type": "execute_result"
    }
   ],
   "source": [
    "import javalang\n",
    "tree = javalang.parse.parse(df_submissions['code'][0])\n",
    "tree"
   ]
  },
  {
   "cell_type": "markdown",
   "metadata": {
    "pycharm": {
     "name": "#%% md\n"
    }
   },
   "source": [
    "## Preprocessing"
   ]
  },
  {
   "cell_type": "code",
   "execution_count": 9,
   "metadata": {
    "pycharm": {
     "name": "#%%\n"
    }
   },
   "outputs": [],
   "source": [
    "def drop_duplicated(df: pd.DataFrame) -> pd.DataFrame:\n",
    "    return df.drop_duplicates(subset=['code'])"
   ]
  },
  {
   "cell_type": "code",
   "execution_count": 10,
   "metadata": {
    "pycharm": {
     "name": "#%%\n"
    }
   },
   "outputs": [],
   "source": [
    "def get_sample(df: pd.DataFrame, n: int) -> pd.DataFrame:\n",
    "    return df_submissions.sample(n=n, random_state=SEED).copy()"
   ]
  },
  {
   "cell_type": "code",
   "execution_count": 11,
   "metadata": {
    "pycharm": {
     "name": "#%%\n"
    }
   },
   "outputs": [],
   "source": [
    "from collections import defaultdict\n",
    "from typing import List, Tuple\n",
    "\n",
    "\n",
    "def get_code_tokens(code: str) -> List[Tuple[str, int]]:\n",
    "    code = code.encode('ascii', errors='ignore').decode('utf-8')\n",
    "    try:\n",
    "        tokens = javalang.tokenizer.tokenize(code)\n",
    "    except Exception as e:\n",
    "        print(code)\n",
    "        return []\n",
    "    \n",
    "    return [(token.value, token.position.line, token.position.column) for token in tokens]\n",
    "\n",
    "\n",
    "def get_tokens_by_lines(series: pd.Series) -> pd.Series:\n",
    "    tokens_by_lines = defaultdict(list)\n",
    "\n",
    "    for token, line, _ in get_code_tokens(series['code']):\n",
    "        tokens_by_lines[line].append(token)\n",
    "\n",
    "    series['code'] = np.array(tokens_by_lines.values())\n",
    "    series['line_number'] = np.array(tokens_by_lines.keys())\n",
    "\n",
    "    return series\n",
    "\n",
    "\n",
    "def filter_issues_by_lines(series: pd.Series) -> pd.Series:\n",
    "    series['qodana_issues'] = [issue for issue in series['qodana_issues'] if issue[1] == series['line_number']]\n",
    "    \n",
    "    return series\n",
    "\n",
    "\n",
    "def code_to_tokens(df: pd.DataFrame) -> pd.DataFrame:\n",
    "    df['code'] = df['code'].apply(lambda code: [token[0] for token in get_code_tokens(code)])\n",
    "    \n",
    "    return df\n",
    "\n",
    "\n",
    "def code_to_tokens_by_lines(df: pd.DataFrame) -> pd.DataFrame:\n",
    "    df = df.apply(get_tokens_by_lines, axis=1)\n",
    "    df = df.explode(['code', 'line_number'])\n",
    "    df = df.apply(filter_issues_by_lines, axis=1)\n",
    "    \n",
    "    return df"
   ]
  },
  {
   "cell_type": "markdown",
   "metadata": {
    "pycharm": {
     "name": "#%% md\n"
    }
   },
   "source": [
    "## Features dataset build"
   ]
  },
  {
   "cell_type": "code",
   "execution_count": null,
   "outputs": [],
   "source": [
    "from sklearn.feature_extraction.text import TfidfVectorizer\n",
    "\n",
    "def tf_idf(df: pd.DataFrame) -> np.array:\n",
    "    tf_idf_vectorizer = TfidfVectorizer(lowercase=False, \n",
    "                                        analyzer='word', \n",
    "                                        tokenizer=lambda x: x,\n",
    "                                        preprocessor=lambda x: x,\n",
    "                                        token_pattern=None)\n",
    "    \n",
    "    tf_idf = tf_idf_vectorizer.fit_transform(df['code'])\n",
    "    \n",
    "    return tf_idf.toarray(), tf_idf_vectorizer.get_feature_names()"
   ],
   "metadata": {
    "collapsed": false,
    "pycharm": {
     "name": "#%%\n"
    }
   }
  },
  {
   "cell_type": "markdown",
   "source": [
    "## Target dataset build"
   ],
   "metadata": {
    "collapsed": false,
    "pycharm": {
     "name": "#%% md\n"
    }
   }
  },
  {
   "cell_type": "code",
   "execution_count": null,
   "outputs": [],
   "source": [
    "import ast\n",
    "\n",
    "def get_issues_present(df: pd.DataFrame) -> np.array:\n",
    "    target = np.zeros((df.shape[0], df_issues_to_ids.shape[0]), dtype=int)\n",
    "    for i, issues in enumerate(df['qodana_issues'].values):\n",
    "        for issue_id, _, _, _ in issues:\n",
    "            target[i][issue_id] = 1\n",
    "    return target"
   ],
   "metadata": {
    "collapsed": false,
    "pycharm": {
     "name": "#%%\n"
    }
   }
  },
  {
   "cell_type": "markdown",
   "source": [
    "## Train / Test / Validation split"
   ],
   "metadata": {
    "collapsed": false,
    "pycharm": {
     "name": "#%% md\n"
    }
   }
  },
  {
   "cell_type": "code",
   "execution_count": null,
   "outputs": [],
   "source": [
    "from sklearn.model_selection import train_test_split\n",
    "\n",
    "def split_dataset(X: np.array, y: np.array, \n",
    "                  test_size: float = 0.2, \n",
    "                  val_size: float = 0.1, \n",
    "                  shuffle: bool = True) -> List[np.array]:\n",
    "    \n",
    "    X_train, X_test, y_train, y_test = train_test_split(X, y, test_size=test_size, random_state=SEED, shuffle=shuffle)\n",
    "    X_train, X_val, y_train, y_val = train_test_split(X, y, test_size=test_size, random_state=SEED, shuffle=shuffle)\n",
    "    \n",
    "    return X_train, X_test, X_val, y_train, y_test, y_val"
   ],
   "metadata": {
    "collapsed": false,
    "pycharm": {
     "name": "#%%\n"
    }
   }
  },
  {
   "cell_type": "markdown",
   "source": [
    "## Threshold selection"
   ],
   "metadata": {
    "collapsed": false,
    "pycharm": {
     "name": "#%% md\n"
    }
   }
  },
  {
   "cell_type": "code",
   "execution_count": null,
   "outputs": [],
   "source": [
    "import matplotlib.pyplot as plt\n",
    "from sklearn.metrics import roc_auc_score, roc_curve, precision_recall_curve\n",
    "\n",
    "def get_threshold(model, X_test: np.array, y_test: np.array, fig_path: str = None) -> float:\n",
    "    y_pred_proba = model.predict_proba(X_test)[:, 1]\n",
    "    precision, recall, thresholds = precision_recall_curve(y_test, y_pred_proba)\n",
    "    auc = roc_auc_score(y_test, y_pred_proba)\n",
    "    idx = np.argmin(np.abs(precision - recall))\n",
    "    threshold = thresholds[idx]\n",
    "    \n",
    "    f1 = 2 * (precision * recall) / (precision + recall + 1e-9)        \n",
    "    queue_rate = [(y_pred_proba >= thr).mean() for thr in thresholds]\n",
    "        \n",
    "    plt.figure(figsize=(5, 5))\n",
    "    plt.plot(thresholds, precision[1:], label=\"Precision\")\n",
    "    plt.plot(thresholds, recall[1:], label=\"Recall\")\n",
    "    plt.plot(thresholds, f1[1:], label=\"F1-Score\")\n",
    "    plt.legend(loc=0)\n",
    "    plt.xlim([0.025, threshold + 0.2])\n",
    "    plt.xlabel(\"Threshold\", fontsize=12)\n",
    "    plt.ylabel(\"Score\", fontsize=12)\n",
    "    plt.axvline(threshold, color=\"k\", ls=\"--\")\n",
    "    plt.title(label = F\"Threshold={threshold:.3f}\", fontsize=12)\n",
    "\n",
    "    if fig_path is None:\n",
    "        plt.show()\n",
    "    else:\n",
    "        plt.savefig(fig_path)\n",
    "    \n",
    "    return threshold"
   ],
   "metadata": {
    "collapsed": false,
    "pycharm": {
     "name": "#%%\n"
    }
   }
  },
  {
   "cell_type": "markdown",
   "source": [
    "## Evaluation"
   ],
   "metadata": {
    "collapsed": false,
    "pycharm": {
     "name": "#%% md\n"
    }
   }
  },
  {
   "cell_type": "code",
   "execution_count": null,
   "outputs": [],
   "source": [
    "df_submissions_sample = get_sample(df_submissions, 100000)\n",
    "df_submissions_sample.shape"
   ],
   "metadata": {
    "collapsed": false,
    "pycharm": {
     "name": "#%%\n"
    }
   }
  },
  {
   "cell_type": "code",
   "execution_count": null,
   "outputs": [],
   "source": [
    "df_submissions_sample = drop_duplicated(df_submissions_sample)\n",
    "df_submissions_sample.shape"
   ],
   "metadata": {
    "collapsed": false,
    "pycharm": {
     "name": "#%%\n"
    }
   }
  },
  {
   "cell_type": "code",
   "execution_count": null,
   "outputs": [],
   "source": [
    "df_submissions_sample = code_to_tokens(df_submissions_sample)\n",
    "df_submissions_sample"
   ],
   "metadata": {
    "collapsed": false,
    "pycharm": {
     "name": "#%%\n"
    }
   }
  },
  {
   "cell_type": "code",
   "execution_count": null,
   "outputs": [],
   "source": [
    "X, features = tf_idf(df_submissions_sample)\n",
    "X.shape"
   ],
   "metadata": {
    "collapsed": false,
    "pycharm": {
     "name": "#%%\n"
    }
   }
  },
  {
   "cell_type": "code",
   "execution_count": null,
   "outputs": [],
   "source": [
    "features"
   ],
   "metadata": {
    "collapsed": false,
    "pycharm": {
     "name": "#%%\n"
    }
   }
  },
  {
   "cell_type": "code",
   "execution_count": null,
   "outputs": [],
   "source": [
    "y = get_issues_present(df_submissions_sample)\n",
    "y.shape"
   ],
   "metadata": {
    "collapsed": false,
    "pycharm": {
     "name": "#%%\n"
    }
   }
  },
  {
   "cell_type": "code",
   "execution_count": null,
   "outputs": [],
   "source": [
    "X_train, X_test, X_val, y_train, y_test, y_val = split_dataset(X, y, test_size=0.2, val_size=0.1)\n",
    "\n",
    "print(X_train.shape, X_test.shape, X_val.shape, y_train.shape, y_test.shape, y_val.shape)"
   ],
   "metadata": {
    "collapsed": false,
    "pycharm": {
     "name": "#%%\n"
    }
   }
  },
  {
   "cell_type": "code",
   "execution_count": null,
   "outputs": [],
   "source": [
    "sample_issues = {issue['id']: issue['name'] for _, issue in df_issues_to_ids.iterrows() if \\\n",
    "                 y[:,issue['id']].sum() > 100 and \\\n",
    "                 issue['name'] not in ['WrongPackageStatement', 'IOResource', 'AbstractClassNeverImplemented']}\n",
    "sample_issues"
   ],
   "metadata": {
    "collapsed": false,
    "pycharm": {
     "name": "#%%\n"
    }
   }
  },
  {
   "cell_type": "code",
   "execution_count": null,
   "outputs": [],
   "source": [
    "from sklearn.feature_selection import SelectKBest\n",
    "from sklearn.feature_selection import mutual_info_classif\n",
    "\n",
    "def select_features(X_train, y_train, X_test, features, k=20):\n",
    "    fs = SelectKBest(score_func=mutual_info_classif, k=k)\n",
    "    fs.fit(X_train, y_train)\n",
    "    return fs.transform(X_train), fs.transform(X_test), fs.get_feature_names_out(features)"
   ],
   "metadata": {
    "collapsed": false,
    "pycharm": {
     "name": "#%%\n"
    }
   }
  },
  {
   "cell_type": "markdown",
   "source": [
    "### XGBoost"
   ],
   "metadata": {
    "collapsed": false,
    "pycharm": {
     "name": "#%% md\n"
    }
   }
  },
  {
   "cell_type": "code",
   "execution_count": null,
   "outputs": [],
   "source": [
    "from xgboost import XGBClassifier\n",
    "from sklearn.metrics import classification_report\n",
    "from collections import Counter\n",
    "\n",
    "for i, issue in sample_issues.items():\n",
    "    \n",
    "    print(f'Processing issue {i}: {issue}')\n",
    "    if len(np.unique(y_train[:,i])) == 1:\n",
    "        print(f'Train target vector has has only one class')\n",
    "        continue\n",
    "    \n",
    "    if len(np.unique(y_test[:,i])) == 1:\n",
    "        print(f'Test target vector has has only one class')\n",
    "        continue\n",
    "            \n",
    "    counter = Counter(y_train[:,i])\n",
    "    estimate = counter[0] / counter[1]\n",
    "    print('Estimate: %.3f' % estimate)\n",
    "\n",
    "    model = XGBClassifier(learning_rate=0.05,\n",
    "                          n_estimators=100,\n",
    "                          max_depth=5,\n",
    "                          min_child_weight=5.0,\n",
    "                          gamma=1,\n",
    "                          scale_pos_weight=estimate,\n",
    "                          objective=\"binary:logistic\",\n",
    "                          random_state=SEED)\n",
    "                  \n",
    "    X_train_short, X_test_short, features_short = select_features(X_train, y_train[:,i], X_test, features, k=1000)\n",
    "    print(f'features selected: {features_short}')\n",
    "    \n",
    "    model.fit(X_train_short, y_train[:,i])\n",
    "    y_pred_proba = model.predict_proba(X_test_short)\n",
    "    \n",
    "    threshold = get_threshold(model, X_test_short, y_test[:,i])\n",
    "    y_pred = [1 if p[1] > threshold else 0 for p in y_pred_proba]\n",
    "    report = classification_report(y_test[:,i], y_pred, labels=[0, 1])\n",
    "    print(report)"
   ],
   "metadata": {
    "collapsed": false,
    "pycharm": {
     "name": "#%%\n"
    }
   }
  },
  {
   "cell_type": "code",
   "execution_count": null,
   "metadata": {
    "pycharm": {
     "name": "#%%\n"
    },
    "scrolled": false
   },
   "outputs": [],
   "source": [
    "from xgboost import XGBClassifier\n",
    "from sklearn.metrics import classification_report\n",
    "from collections import Counter\n",
    "\n",
    "for i, issue in sample_issues.items():\n",
    "    \n",
    "    print(f'Processing issue {i}: {issue}')\n",
    "    if len(np.unique(y_train[:,i])) == 1:\n",
    "        print(f'Train target vector has has only one class')\n",
    "        continue\n",
    "    \n",
    "    if len(np.unique(y_test[:,i])) == 1:\n",
    "        print(f'Test target vector has has only one class')\n",
    "        continue\n",
    "            \n",
    "    counter = Counter(y_train[:,i])\n",
    "    estimate = counter[0] / counter[1]\n",
    "    print('Estimate: %.3f' % estimate)\n",
    "\n",
    "    model = XGBClassifier(learning_rate=0.05,\n",
    "                          n_estimators=100,\n",
    "                          max_depth=5,\n",
    "                          min_child_weight=5.0,\n",
    "                          gamma=1,\n",
    "                          scale_pos_weight=estimate,\n",
    "                          objective=\"binary:logistic\",\n",
    "                          random_state=SEED)\n",
    "                  \n",
    "    X_train_short, X_test_short, features_short = select_features(X_train, y_train[:,i], X_test, features, k=1000)\n",
    "    print(f'features selected: {features_short}')\n",
    "    \n",
    "    model.fit(X_train_short, y_train[:,i])\n",
    "    y_pred_proba = model.predict_proba(X_test_short)\n",
    "    \n",
    "    threshold = get_threshold(model, X_test_short, y_test[:,i])\n",
    "    y_pred = [1 if p[1] > threshold else 0 for p in y_pred_proba]\n",
    "    report = classification_report(y_test[:,i], y_pred, labels=[0, 1])\n",
    "    print(report)"
   ]
  },
  {
   "cell_type": "code",
   "execution_count": null,
   "metadata": {
    "pycharm": {
     "name": "#%%\n"
    }
   },
   "outputs": [],
   "source": []
  }
 ],
 "metadata": {
  "kernelspec": {
   "display_name": "Python 3 (ipykernel)",
   "language": "python",
   "name": "python3"
  },
  "language_info": {
   "codemirror_mode": {
    "name": "ipython",
    "version": 3
   },
   "file_extension": ".py",
   "mimetype": "text/x-python",
   "name": "python",
   "nbconvert_exporter": "python",
   "pygments_lexer": "ipython3",
   "version": "3.9.12"
  }
 },
 "nbformat": 4,
 "nbformat_minor": 1
}