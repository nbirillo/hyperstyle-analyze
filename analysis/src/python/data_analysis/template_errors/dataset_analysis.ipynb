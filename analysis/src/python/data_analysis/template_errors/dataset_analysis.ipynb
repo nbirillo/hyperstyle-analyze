{
 "cells": [
  {
   "cell_type": "code",
   "execution_count": 37,
   "metadata": {
    "collapsed": true
   },
   "outputs": [],
   "source": [
    "# Imports\n",
    "import os\n",
    "import sys\n",
    "\n",
    "import pandas as pd\n",
    "\n",
    "root_path = os.path.abspath(os.path.join('..', '..', '..'))\n",
    "if root_path not in sys.path:\n",
    "    sys.path.append(root_path)\n",
    "\n",
    "from analysis.src.python.data_analysis.model.column_name import StepColumns\n",
    "from analysis.src.python.utils.df_utils import read_df, filter_df_by_single_value\n"
   ]
  },
  {
   "cell_type": "code",
   "execution_count": 38,
   "outputs": [],
   "source": [
    "# Setup paths to datasets\n",
    "\n",
    "BASE_PATH = \"\"\n",
    "\n",
    "STEPS_DATA = f\"{BASE_PATH}/steps.csv\"\n",
    "USERS_DATA = f\"{BASE_PATH}/users.csv\"\n",
    "SUBMISSIONS_DATA = f\"{BASE_PATH}/solutions_java11_raw_issues.csv\"\n",
    "TEMPLATES_DATA = f\"{BASE_PATH}/issues/template_issues.csv\""
   ],
   "metadata": {
    "collapsed": false,
    "pycharm": {
     "name": "#%%\n"
    }
   }
  },
  {
   "cell_type": "code",
   "execution_count": 39,
   "outputs": [],
   "source": [
    "# Upload all dataframes\n",
    "\n",
    "steps_df = read_df(STEPS_DATA)\n",
    "users_df = read_df(USERS_DATA)\n",
    "submissions_df = read_df(SUBMISSIONS_DATA)\n",
    "templates_df = read_df(TEMPLATES_DATA)"
   ],
   "metadata": {
    "collapsed": false,
    "pycharm": {
     "name": "#%%\n"
    }
   }
  },
  {
   "cell_type": "code",
   "execution_count": 40,
   "outputs": [
    {
     "name": "stdout",
     "output_type": "stream",
     "text": [
      "Steps count: 415\n",
      "Users count: 37626\n",
      "Steps with template count: 415\n",
      "Submissions count initial: 1065579\n"
     ]
    }
   ],
   "source": [
    "# General statistics about the dataset\n",
    "\n",
    "def unique_values_by_column(df: pd.DataFrame, column: str) -> pd.DataFrame:\n",
    "    return df[column].dropna().unique()\n",
    "\n",
    "\n",
    "steps_count = len(unique_values_by_column(steps_df, StepColumns.ID.value))\n",
    "users_count = len(unique_values_by_column(users_df, StepColumns.ID.value))\n",
    "\n",
    "print(f\"Steps count: {steps_count}\")\n",
    "print(f\"Users count: {users_count}\")\n",
    "\n",
    "steps_with_templates_df = filter_df_by_single_value(steps_df, StepColumns.HAS_TEMPLATE.value, True)\n",
    "steps_with_templates = len(unique_values_by_column(steps_with_templates_df, StepColumns.ID.value))\n",
    "\n",
    "print(f\"Steps with template count: {steps_with_templates}\")\n",
    "\n",
    "submissions_count_initial = len(unique_values_by_column(submissions_df, StepColumns.ID.value))\n",
    "print(f\"Submissions count initial: {submissions_count_initial}\")"
   ],
   "metadata": {
    "collapsed": false,
    "pycharm": {
     "name": "#%%\n"
    }
   }
  },
  {
   "cell_type": "code",
   "execution_count": 41,
   "outputs": [
    {
     "name": "stdout",
     "output_type": "stream",
     "text": [
      "Steps count that have code quality issues in templates: 61\n",
      "Steps count that DON'T have code quality issues in templates: 354\n"
     ]
    }
   ],
   "source": [
    "from data_analysis.model.column_name import SubmissionColumns, TemplateColumns\n",
    "\n",
    "# Templates stats\n",
    "\n",
    "steps_with_templates_issues = len(unique_values_by_column(templates_df, SubmissionColumns.STEP_ID.value))\n",
    "print(f\"Steps count that have code quality issues in templates: {steps_with_templates_issues}\")\n",
    "\n",
    "all_steps = set(unique_values_by_column(steps_df, SubmissionColumns.ID.value))\n",
    "steps_with_template_issues = set(unique_values_by_column(templates_df, SubmissionColumns.STEP_ID.value))\n",
    "steps_without_template_issues = all_steps - steps_with_template_issues\n",
    "print(f\"Steps count that DON'T have code quality issues in templates: {len(steps_without_template_issues)}\")"
   ],
   "metadata": {
    "collapsed": false,
    "pycharm": {
     "name": "#%%\n"
    }
   }
  },
  {
   "cell_type": "code",
   "execution_count": 47,
   "outputs": [
    {
     "data": {
      "text/plain": "<AxesSubplot:>"
     },
     "execution_count": 47,
     "metadata": {},
     "output_type": "execute_result"
    },
    {
     "data": {
      "text/plain": "<Figure size 432x288 with 1 Axes>",
      "image/png": "[encoded data removed]"
     },
     "metadata": {
      "needs_background": "light"
     },
     "output_type": "display_data"
    }
   ],
   "source": [
    "# Count errors types by steps\n",
    "\n",
    "counter_column = 'counter'\n",
    "steps_errors_count_df = templates_df.groupby(SubmissionColumns.STEP_ID.value)[\n",
    "    SubmissionColumns.RAW_ISSUE_CLASS.value].nunique().reset_index(name=counter_column)\n",
    "all_steps = set(unique_values_by_column(steps_df, SubmissionColumns.ID.value))\n",
    "steps_with_template_issues = set(unique_values_by_column(templates_df, SubmissionColumns.STEP_ID.value))\n",
    "steps_without_template_issues = all_steps - steps_with_template_issues\n",
    "for step in steps_without_template_issues:\n",
    "    steps_errors_count_df = steps_errors_count_df.append({SubmissionColumns.STEP_ID.value: step, counter_column: 0},\n",
    "                                                         ignore_index=True)\n",
    "\n",
    "steps_errors_count_df[counter_column].hist()"
   ],
   "metadata": {
    "collapsed": false,
    "pycharm": {
     "name": "#%%\n"
    }
   }
  },
  {
   "cell_type": "code",
   "execution_count": 54,
   "outputs": [
    {
     "name": "stdout",
     "output_type": "stream",
     "text": [
      "<bound method NDFrame.head of                           origin_class  counter\n",
      "11                    MagicNumberCheck       68\n",
      "4               CallSuperInConstructor       27\n",
      "7              EmptyLineSeparatorCheck       26\n",
      "8                     IndentationCheck       16\n",
      "17                  UnusedImportsCheck        8\n",
      "5                    ConstantNameCheck        5\n",
      "1   AbstractClassWithoutAbstractMethod        3\n",
      "10          LiteralsFirstInComparisons        2\n",
      "12                     MemberNameCheck        2\n",
      "21               WhitespaceAroundCheck        2\n",
      "6    ConstructorCallsOverridableMethod        2\n",
      "9                      LineLengthCheck        1\n",
      "3     AvoidFieldNameMatchingMethodName        1\n",
      "13             MissingSerialVersionUID        1\n",
      "14                  ParameterNameCheck        1\n",
      "15                  PreserveStackTrace        1\n",
      "16                       SingularField        1\n",
      "2                  AssignmentInOperand        1\n",
      "18                  UnusedPrivateField        1\n",
      "19              UseObjectForClearerAPI        1\n",
      "20                  UselessParentheses        1\n",
      "0        AbbreviationAsWordInNameCheck        1>\n"
     ]
    }
   ],
   "source": [
    "# Top code quality issues in templates\n",
    "\n",
    "def issue_count(row: pd.DataFrame) -> int:\n",
    "    if pd.isnull(row[TemplateColumns.POS_IN_TEMPLATE.value]):\n",
    "        return 1\n",
    "    return len(row[TemplateColumns.POS_IN_TEMPLATE.value].split(\", \"))\n",
    "\n",
    "\n",
    "templates_df[counter_column] = templates_df.apply(issue_count, axis=1)\n",
    "issues_counter_df = templates_df.groupby(SubmissionColumns.RAW_ISSUE_CLASS.value)[counter_column].sum().reset_index(\n",
    "    name=counter_column).sort_values(counter_column, ascending=False)\n",
    "\n",
    "print(issues_counter_df.head)"
   ],
   "metadata": {
    "collapsed": false,
    "pycharm": {
     "name": "#%%\n"
    }
   }
  },
  {
   "cell_type": "code",
   "execution_count": 55,
   "outputs": [
    {
     "name": "stdout",
     "output_type": "stream",
     "text": [
      "         category  counter\n",
      "0            INFO       68\n",
      "1      CODE_STYLE       54\n",
      "2  BEST_PRACTICES       50\n",
      "3     ERROR_PRONE        0\n",
      "4      COMPLEXITY        0\n"
     ]
    }
   ],
   "source": [
    "from hyperstyle.src.python.review.inspectors.detekt.issue_types import DETEKT_CLASS_NAME_TO_ISSUE_TYPE\n",
    "from hyperstyle.src.python.review.inspectors.checkstyle.issue_types import CHECK_CLASS_NAME_TO_ISSUE_TYPE\n",
    "from hyperstyle.src.python.review.inspectors.issue import IssueType\n",
    "\n",
    "# Top code quality issues in templates by categories\n",
    "\n",
    "all_categories = [IssueType.CODE_STYLE.value, IssueType.BEST_PRACTICES.value, IssueType.ERROR_PRONE.value,\n",
    "                  IssueType.COMPLEXITY.value, IssueType.INFO.value]\n",
    "\n",
    "\n",
    "def get_issue_category(issue: str) -> IssueType:\n",
    "    issue_type = CHECK_CLASS_NAME_TO_ISSUE_TYPE.get(issue)\n",
    "    if issue_type is not None:\n",
    "        return issue_type\n",
    "    issue_type = DETEKT_CLASS_NAME_TO_ISSUE_TYPE.get(issue)\n",
    "    if issue_type is not None:\n",
    "        return issue_type\n",
    "    # According to the Hyperstyle tool\n",
    "    return IssueType.BEST_PRACTICES\n",
    "\n",
    "\n",
    "category_column = 'category'\n",
    "templates_df[category_column] = templates_df.apply(\n",
    "    lambda row: get_issue_category(row[SubmissionColumns.RAW_ISSUE_CLASS.value]).to_main_type().value, axis=1)\n",
    "\n",
    "issues_counter_by_category_df = templates_df.groupby(category_column)[counter_column].sum().reset_index(\n",
    "    name=counter_column).sort_values(counter_column, ascending=False)\n",
    "missed_categories = set(all_categories) - set(unique_values_by_column(issues_counter_by_category_df, category_column))\n",
    "\n",
    "for category in missed_categories:\n",
    "    issues_counter_by_category_df = issues_counter_by_category_df.append({category_column: category, counter_column: 0},\n",
    "                                                                         ignore_index=True)\n",
    "\n",
    "print(issues_counter_by_category_df)"
   ],
   "metadata": {
    "collapsed": false,
    "pycharm": {
     "name": "#%%\n"
    }
   }
  }
 ],
 "metadata": {
  "kernelspec": {
   "display_name": "Python 3",
   "language": "python",
   "name": "python3"
  },
  "language_info": {
   "codemirror_mode": {
    "name": "ipython",
    "version": 2
   },
   "file_extension": ".py",
   "mimetype": "text/x-python",
   "name": "python",
   "nbconvert_exporter": "python",
   "pygments_lexer": "ipython2",
   "version": "2.7.6"
  }
 },
 "nbformat": 4,
 "nbformat_minor": 0
}