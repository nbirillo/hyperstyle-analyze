{
 "cells": [
  {
   "cell_type": "markdown",
   "metadata": {
    "collapsed": true,
    "pycharm": {
     "name": "#%% md\n"
    }
   },
   "source": [
    "# Template errors search analysis"
   ]
  },
  {
   "cell_type": "markdown",
   "metadata": {
    "pycharm": {
     "name": "#%% md\n"
    }
   },
   "source": [
    "## Settings"
   ]
  },
  {
   "cell_type": "code",
   "execution_count": null,
   "metadata": {
    "pycharm": {
     "name": "#%%\n"
    }
   },
   "outputs": [],
   "source": [
    "import ast\n",
    "from random import sample, seed\n",
    "\n",
    "import matplotlib.pyplot as plt\n",
    "import numpy as np\n",
    "import pandas as pd\n",
    "import seaborn as sns"
   ]
  },
  {
   "cell_type": "code",
   "execution_count": null,
   "metadata": {
    "pycharm": {
     "name": "#%%\n"
    }
   },
   "outputs": [],
   "source": [
    "# Set path to following csv files (or use preset default)\n",
    "\n",
    "ranking_file_path = '~/Desktop/data/output/java/ranking_char_by_char.csv'\n",
    "steps_file_path = '~/Desktop/data/output/java/steps_with_groups_cnt.csv'"
   ]
  },
  {
   "cell_type": "code",
   "execution_count": null,
   "metadata": {
    "pycharm": {
     "name": "#%%\n"
    }
   },
   "outputs": [],
   "source": [
    "# Reading and preparing data\n",
    "\n",
    "df_ranking = pd.read_csv(ranking_file_path)\n",
    "df_steps = pd.read_csv(steps_file_path)\n",
    "\n",
    "df_ranking_by_step = df_ranking.groupby('step_id')\n",
    "df_ranking = df_ranking.sort_values(by='origin_class')"
   ]
  },
  {
   "cell_type": "code",
   "execution_count": null,
   "metadata": {
    "pycharm": {
     "name": "#%%\n"
    }
   },
   "outputs": [],
   "source": [
    "seed(24)\n",
    "\n",
    "\n",
    "def count_commits(df_issues, df_steps):\n",
    "    commit_cnts = {}\n",
    "    groups_cnt_by_step = pd.Series(df_steps['groups_cnt'].values, index=df_steps['id'])\n",
    "\n",
    "    for issue in df_issues['origin_class'].unique():\n",
    "        df = df_issues[df_issues['origin_class'] == issue]\n",
    "        commit_cnts[issue] = df.apply(lambda x: round(groups_cnt_by_step[x['step_id']] * x['frequency']), axis=1).sum()\n",
    "\n",
    "    return commit_cnts\n",
    "\n",
    "\n",
    "def get_commit_cnt(issue, df_issues, df_steps):\n",
    "    COMMIT_CNTS = count_commits(df_issues, df_steps)\n",
    "    return COMMIT_CNTS[issue]\n",
    "\n",
    "\n",
    "def get_step_difficulty(step_id, df_steps):\n",
    "    return df_steps[df_steps['id'] == step_id].iloc[0]['difficulty']"
   ]
  },
  {
   "cell_type": "code",
   "execution_count": null,
   "metadata": {
    "pycharm": {
     "name": "#%%\n"
    }
   },
   "outputs": [],
   "source": [
    "# Configuring plots\n",
    "\n",
    "diff_palette = dict(zip(['hard', 'medium', 'easy'], sns.color_palette(\"nipy_spectral_r\").as_hex()))\n",
    "\n",
    "\n",
    "def draw_occurrence_cnt(df_issues, title):\n",
    "    plt.figure(figsize=(30, 7))\n",
    "    g = sns.countplot(x=df_issues['origin_class'], order=df_issues['origin_class'].value_counts().index)\n",
    "    g.set_yscale(\"log\")\n",
    "    plt.xticks(rotation=45, ha=\"right\", rotation_mode='anchor')\n",
    "    plt.ylabel('occurrence count')\n",
    "    plt.title(title)\n",
    "    plt.show()\n",
    "\n",
    "\n",
    "def draw_commit_cnt(df_issues, df_issues_steps, title):\n",
    "    COMMIT_CNTS = count_commits(df_issues, df_issues_steps)\n",
    "    issues = np.array(df_issues['origin_class'].values)\n",
    "    cnts = np.array([COMMIT_CNTS[issue] for issue in issues])\n",
    "    idx = np.argsort(cnts)[::-1]\n",
    "    issues = np.array(issues)[idx]\n",
    "    cnts = np.array(cnts)[idx]\n",
    "    plt.figure(figsize=(30, 7))\n",
    "    g = sns.barplot(x=issues, y=cnts)\n",
    "    g.set_yscale(\"log\")\n",
    "    plt.xticks(rotation=45, ha=\"right\", rotation_mode='anchor')\n",
    "    plt.xlabel('origin_class')\n",
    "    plt.ylabel('commit count')\n",
    "    plt.title(title)\n",
    "    plt.show()\n",
    "\n",
    "\n",
    "def draw_step_stats(step, df_issues, df_issues_steps):\n",
    "    COMMIT_CNTS = count_commits(df_issues, df_issues_steps)\n",
    "    issues = df_issues['origin_class'].values\n",
    "    df_value_counts = df_issues['origin_class'].value_counts()\n",
    "    occurrence_cnts = [df_value_counts[issue] for issue in issues]\n",
    "    commit_cnts = [COMMIT_CNTS[issue] for issue in issues]\n",
    "    plt.figure(figsize=(20, 7))\n",
    "    sns.lineplot(x=issues, y=occurrence_cnts, marker='o', label='occurrence count')\n",
    "    sns.lineplot(x=issues, y=commit_cnts, marker='o', label='commit count')\n",
    "    plt.xticks(rotation=45, ha=\"right\", rotation_mode='anchor')\n",
    "    plt.title(\n",
    "        f'Occurrence and commit counts for step {step} (difficulty: {get_step_difficulty(step, df_issues_steps)})')\n",
    "    plt.legend()\n",
    "    plt.show()\n",
    "\n",
    "\n",
    "def draw_issues_disribution(step, df_issues, df_issues_steps):\n",
    "    df_issues_in = df_issues[~df_issues['pos_in_template'].isna()]\n",
    "    df_issues = df_issues[df_issues['pos_in_template'].isna()].drop_duplicates(\n",
    "        subset=['origin_class', 'frequency', 'pos_in_template'])\n",
    "    df = pd.concat([df_issues, df_issues_in], ignore_index=True).sort_values(by=['frequency'], ascending=False)\n",
    "    plt.figure(figsize=(20, 7))\n",
    "    sns.scatterplot(x=range(df.shape[0]), y=df['frequency'], hue=df['origin_class'],\n",
    "                    style=~df['pos_in_template'].isna(), s=100, edgecolor='black')\n",
    "    plt.legend(bbox_to_anchor=(1.05, 1), loc=2, borderaxespad=0.)\n",
    "    plt.title(\n",
    "        f'Issues distribution for step {step} (difficulty: {get_step_difficulty(step, df_issues_steps)})')\n",
    "    plt.show()\n",
    "\n",
    "\n",
    "def draw_occurence_cnt_by_difficulty(df_issues, df_steps, title):\n",
    "    plt.figure(figsize=(30, 7))\n",
    "    g = sns.countplot(x=df_issues['origin_class'],\n",
    "                      hue=df_issues['step_id'].map(lambda x: get_step_difficulty(x, df_steps)),\n",
    "                      hue_order=['easy', 'medium', 'hard'], palette=diff_palette,\n",
    "                      order=df_issues['origin_class'].value_counts().index)\n",
    "    g.set_yscale(\"log\")\n",
    "    plt.xticks(rotation=45, ha=\"right\", rotation_mode='anchor')\n",
    "    plt.ylabel('occurrence count')\n",
    "    plt.title(title)\n",
    "    plt.legend(loc='upper right')\n",
    "    plt.show()\n",
    "\n",
    "\n",
    "def draw_commit_cnt_by_difficulty(df_issues, df_issues_steps, title):\n",
    "    issues = np.array(df_issues['origin_class'].values)\n",
    "    cnts = np.array([get_commit_cnt(issue, df_issues[df_issues['step_id'].isin(\n",
    "        df_issues_steps[df_issues_steps['difficulty'] == get_step_difficulty(step_id, df_issues_steps)]['id'])],\n",
    "                                    df_issues_steps)\n",
    "                     for issue, step_id in df_issues[['origin_class', 'step_id']].values])\n",
    "    idx = np.argsort(cnts)[::-1]\n",
    "    issues = np.array(issues)[idx]\n",
    "    cnts = np.array(cnts)[idx]\n",
    "    hue = df_issues['step_id'].map(lambda x: get_step_difficulty(x, df_issues_steps)).values\n",
    "    plt.figure(figsize=(30, 7))\n",
    "    g = sns.barplot(x=issues, y=cnts, hue=hue, hue_order=['easy', 'medium', 'hard'], palette=diff_palette, ci=None)\n",
    "    g.set_yscale(\"log\")\n",
    "    plt.xticks(rotation=45, ha=\"right\", rotation_mode='anchor')\n",
    "    plt.xlabel('origin_class')\n",
    "    plt.ylabel('commit count')\n",
    "    plt.title(title)\n",
    "    plt.show()\n",
    "\n",
    "\n",
    "class bcolors:\n",
    "    HEADER = '\\033[95m'\n",
    "    OKBLUE = '\\033[94m'\n",
    "    OKCYAN = '\\033[96m'\n",
    "    OKGREEN = '\\033[92m'\n",
    "    WARNING = '\\033[93m'\n",
    "    FAIL = '\\033[91m'\n",
    "    ENDC = '\\033[0m'\n",
    "    BOLD = '\\033[1m'\n",
    "    UNDERLINE = '\\033[4m'"
   ]
  },
  {
   "cell_type": "markdown",
   "metadata": {
    "pycharm": {
     "name": "#%% md\n"
    }
   },
   "source": [
    "## Steps dataset description\n",
    "\n",
    "Step is a task where user is asked to write some code.\n",
    "\n",
    "Attributes considered in the analysis:\n",
    "* `id`: - *identifier of step*\n",
    "* `difficulty` - [`easy`, `medium`, `hard`] *according to success_rate [sr<=0.33, 0.33<sr<0.66, sr>=0.66]*\n",
    "* `groups_cnt` - *number of submission series (group of submissions by one user) used in errors search*"
   ]
  },
  {
   "cell_type": "markdown",
   "metadata": {
    "pycharm": {
     "name": "#%% md\n"
    }
   },
   "source": [
    "## Ranking dataset description\n",
    "\n",
    "Issues ranking is the result of running template errors search algorithm on submissions.\n",
    "\n",
    "Ranking consists of blocks, each containing a sequence of issues for a single step sorted by frequency of being uncorrected.\n",
    "\n",
    "Issue is considered uncorrected in a submission group if it appeares in every submission of the group.\n",
    "Then frequency of being uncorrected is number of submission groups where the issue was not corrected divided by total number of groups for the step (`groups_cnt` in terms of step attributes).\n",
    "\n",
    "Attributes considered in the analysis:\n",
    "* `step_id` - *identifier of corresponding step*\n",
    "* `origin_class` - *class of the issue*\n",
    "* `frequency` - *percentage of submission groups in which the issue was not corrected (from 0 to 1)*\n",
    "* `pos_in_template` - *position in corresponding template (`None` if no template line matched the issue line)*"
   ]
  },
  {
   "cell_type": "markdown",
   "metadata": {
    "pycharm": {
     "name": "#%% md\n"
    }
   },
   "source": [
    "## Generalized statistics\n",
    "\n",
    "**Occurrence count** for a specific issue class in a ranking block is number of different issues with this issue class within the block.\n",
    "\n",
    "**Commit count** for a specific issue class in a ranking block is number of times an issue with this issue class appeared among submissions within the block.\n",
    "In other words, commit count is sum of number of submission groups in which an issue was not corrected for every issue with this issue class.\n",
    "\n",
    "Histograms below present occurrence and commit counts summed over all ranking blocks."
   ]
  },
  {
   "cell_type": "code",
   "execution_count": null,
   "metadata": {
    "pycharm": {
     "name": "#%%\n"
    }
   },
   "outputs": [],
   "source": [
    "draw_occurrence_cnt(df_ranking, title='Total occurrence counts')\n",
    "draw_commit_cnt(df_ranking, df_steps, title='Total commit counts')"
   ]
  },
  {
   "cell_type": "code",
   "execution_count": null,
   "metadata": {
    "pycharm": {
     "name": "#%%\n"
    }
   },
   "outputs": [],
   "source": [
    "df_template_errors = df_ranking[~df_ranking['pos_in_template'].isna()].sort_values(by='origin_class')\n",
    "\n",
    "draw_occurrence_cnt(df_template_errors, 'Total occurrence count for template errors')\n",
    "draw_occurence_cnt_by_difficulty(df_template_errors, df_steps,\n",
    "                                 'Total occurrence count for template errors by step difficulty')\n",
    "\n",
    "draw_commit_cnt(df_template_errors, df_steps, 'Total commit count for template errors')\n",
    "draw_commit_cnt_by_difficulty(df_template_errors, df_steps, 'Total commit count for template errors by step difficulty')"
   ]
  },
  {
   "cell_type": "markdown",
   "metadata": {
    "pycharm": {
     "name": "#%% md\n"
    }
   },
   "source": [
    "## Statistics by step\n",
    "\n",
    "For demonstration purposes, graphs below represent statistics for individual steps, selected randomly."
   ]
  },
  {
   "cell_type": "code",
   "execution_count": null,
   "metadata": {
    "pycharm": {
     "name": "#%%\n"
    }
   },
   "outputs": [],
   "source": [
    "random_steps = sample(df_ranking['step_id'].unique().tolist(), 8)"
   ]
  },
  {
   "cell_type": "markdown",
   "metadata": {
    "pycharm": {
     "name": "#%% md\n"
    }
   },
   "source": [
    "### Occurrence and commit counts by step"
   ]
  },
  {
   "cell_type": "code",
   "execution_count": null,
   "metadata": {
    "pycharm": {
     "name": "#%%\n"
    }
   },
   "outputs": [],
   "source": [
    "for step_id in random_steps:\n",
    "    df = df_ranking_by_step.get_group(step_id)\n",
    "    draw_step_stats(step_id, df, df_steps)"
   ]
  },
  {
   "cell_type": "markdown",
   "metadata": {
    "pycharm": {
     "name": "#%% md\n"
    }
   },
   "source": [
    "### Detailed issues distribution by step\n",
    "\n",
    "Plots below present issues distribution for a specified step. Every point represent an issue with its **index number among considered issues** on x-axis and its **frequency** on y-axis.\n",
    "Color of the point specifies issue class, marker of the point specifies whether issue is considered as template error or not.\n",
    "\n",
    "*Note: for the convenience of analysis, errors not from the template with the same class and frequency were excluded from consideration.*"
   ]
  },
  {
   "cell_type": "code",
   "execution_count": null,
   "metadata": {
    "pycharm": {
     "name": "#%%\n"
    }
   },
   "outputs": [],
   "source": [
    "for step_id in random_steps:\n",
    "    df = df_ranking_by_step.get_group(step_id)\n",
    "    draw_issues_disribution(step_id, df, df_steps)"
   ]
  },
  {
   "cell_type": "markdown",
   "metadata": {
    "pycharm": {
     "name": "#%% md\n"
    }
   },
   "source": [
    "### Code template marked with detected errors by step\n",
    "\n",
    "Output below represents code templates of selected steps with detected errors marked in comments.\n",
    "Here **ISSUE** is for `origin_class` and **FREQ** is for `frequency`."
   ]
  },
  {
   "cell_type": "code",
   "execution_count": null,
   "metadata": {
    "pycharm": {
     "name": "#%%\n"
    }
   },
   "outputs": [],
   "source": [
    "df_steps['code_templates'] = df_steps['code_templates'].map(lambda x: ast.literal_eval(x))"
   ]
  },
  {
   "cell_type": "code",
   "execution_count": null,
   "metadata": {
    "pycharm": {
     "name": "#%%\n"
    }
   },
   "outputs": [],
   "source": [
    "for step_id in random_steps:\n",
    "    output = ''\n",
    "    output = output + f'{bcolors.BOLD}================================= STEP_ID={step_id} ================================={bcolors.ENDC}' + '\\n'\n",
    "    df = df_ranking_by_step.get_group(step_id)\n",
    "    template = df_steps[df_steps['id'] == step_id].iloc[0]['code_templates']\n",
    "    for i in range(len(template)):\n",
    "        df_cur = df[df['pos_in_template'] == i]\n",
    "        for issue, freq in df_cur[['origin_class', 'frequency']].values:\n",
    "            output = output + f'{bcolors.FAIL}// ISSUE: {issue}, FREQ: {freq:.3f}{bcolors.ENDC}' + '\\n'\n",
    "        output = output + template[i] + '\\n'\n",
    "    print(output)"
   ]
  }
 ],
 "metadata": {
  "kernelspec": {
   "display_name": "Python 3 (ipykernel)",
   "language": "python",
   "name": "python3"
  },
  "language_info": {
   "codemirror_mode": {
    "name": "ipython",
    "version": 3
   },
   "file_extension": ".py",
   "mimetype": "text/x-python",
   "name": "python",
   "nbconvert_exporter": "python",
   "pygments_lexer": "ipython3",
   "version": "3.8.10"
  }
 },
 "nbformat": 4,
 "nbformat_minor": 1
}